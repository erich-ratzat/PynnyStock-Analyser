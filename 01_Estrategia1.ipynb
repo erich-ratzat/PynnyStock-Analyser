{
 "cells": [
  {
   "cell_type": "code",
   "execution_count": 1,
   "metadata": {},
   "outputs": [],
   "source": [
    "import Ativo as at\n",
    "import FileManager as fman\n",
    "import pickle"
   ]
  },
  {
   "cell_type": "code",
   "execution_count": 2,
   "metadata": {},
   "outputs": [],
   "source": [
    "fm = fman.FileManager()"
   ]
  },
  {
   "cell_type": "code",
   "execution_count": null,
   "metadata": {},
   "outputs": [],
   "source": [
    "al = []\n",
    "# names = fm.getNames()[0:100] # se quiser apenas alguns nomes\n",
    "names = fm.getNames()\n",
    "for n in names:\n",
    "    print(n)\n",
    "    try:\n",
    "        a = at.Ativo(n, fm[n])\n",
    "        for intraday in a.intraDays:\n",
    "            d = {'name': a.name,\n",
    "                 'date': intraday.date,\n",
    "                 'stats': intraday.stats}\n",
    "            al.append( d )\n",
    "    except IndexError:\n",
    "        print(\"Ativo sem nenhum dado ou dado inconsistente\")"
   ]
  },
  {
   "cell_type": "code",
   "execution_count": null,
   "metadata": {},
   "outputs": [],
   "source": [
    "# como temos um arquivo grande al, que é uma lista de dicts, é importante salvar em um file para que não precisemos\n",
    "# rodar toda a análise novamente cada vez que queremos analisar ou filtrar os dias*ativos de uma maneira diferente\n",
    "# https://stackabuse.com/reading-and-writing-lists-to-a-file-in-python/\n",
    "# https://pythonspot.com/save-a-dictionary-to-a-file/\n",
    "with open('AtivoDiaList.pkl', 'wb') as filehandle: # w de write e b de binary\n",
    "    pickle.dump(al,filehandle)"
   ]
  },
  {
   "cell_type": "code",
   "execution_count": 3,
   "metadata": {},
   "outputs": [],
   "source": [
    "# e agora pra abrir o dictionary que foi salvo em um pickle?\n",
    "with open('AtivoDiaList.pkl', 'rb') as filehandle: # w de write e b de binary\n",
    "    ativo_dia_list = pickle.load(filehandle) # notar como para salvar precisamos passar a list e o filehandle, mas pra abrir não"
   ]
  },
  {
   "cell_type": "raw",
   "metadata": {},
   "source": [
    "RESUMO DOS CÁLCULOS\n",
    "Número total de ações: 2948\n",
    "Número aproximado de dias com negociação: 252 (dias úteis em 1 ano)\n",
    "Número teórico de ativos*dias = 2948x252 = 742.896\n",
    "Número total de ativos*dias = 541.363\n",
    "Ativo-Dias após Filtro 1 = 1734\n",
    "Ativo-Dias após Filtro 2 = 506.970\n",
    "Ativo-Dias após Filtro 3 = 9118\n",
    "Ativo-Dias após Filtro 1 + Filtro 2 + Filtro 3 = 799"
   ]
  },
  {
   "cell_type": "code",
   "execution_count": 4,
   "metadata": {},
   "outputs": [
    {
     "data": {
      "text/plain": [
       "2948"
      ]
     },
     "execution_count": 4,
     "metadata": {},
     "output_type": "execute_result"
    }
   ],
   "source": [
    "# Número total de ações: 2948\n",
    "len( fm.getNames() )"
   ]
  },
  {
   "cell_type": "code",
   "execution_count": null,
   "metadata": {},
   "outputs": [],
   "source": [
    "# qual o número aproximado de dias?\n",
    "# o primeiro dia de dados é em 21/10/2019\n",
    "# o último dia de dados é em 14/10/2020"
   ]
  },
  {
   "cell_type": "code",
   "execution_count": 5,
   "metadata": {},
   "outputs": [
    {
     "data": {
      "text/plain": [
       "541363"
      ]
     },
     "execution_count": 5,
     "metadata": {},
     "output_type": "execute_result"
    }
   ],
   "source": [
    "# quantos ativos*dias temos?\n",
    "len(ativo_dia_list)"
   ]
  },
  {
   "cell_type": "code",
   "execution_count": 6,
   "metadata": {},
   "outputs": [],
   "source": [
    "# FILTER 1 \n",
    "# 1) Procurar em todas ações todos dias que tiveram volume pre v maior ou igual que 800k  range->[V >= 800k]\n",
    "def prevol_greater_than_800k(ad): # input é algum dia de algum ativo\n",
    "    return ad['stats']['volPre'] >= 800000\n",
    "\n",
    "filtered_ativo_dias =  filter(prevol_greater_than_800k, ativo_dia_list)\n",
    "\n",
    "filtered_ativo_dias = list(filtered_ativo_dias)\n",
    "\n",
    "# len(filtered_ativo_dias) # 1734"
   ]
  },
  {
   "cell_type": "code",
   "execution_count": 7,
   "metadata": {},
   "outputs": [],
   "source": [
    "# FILTER 2\n",
    "# 2 Open maior ou igual a $1\n",
    "def open_greater_than_1dolar(ad):\n",
    "    return ad['stats']['openValue'] >= 1\n",
    "\n",
    "filtered_ativo_dias =  filter(open_greater_than_1dolar, ativo_dia_list)\n",
    "filtered_ativo_dias = list(filtered_ativo_dias)\n",
    "\n",
    "# len(filtered_ativo_dias) # 506970"
   ]
  },
  {
   "cell_type": "code",
   "execution_count": 8,
   "metadata": {},
   "outputs": [],
   "source": [
    "# FILTER 3\n",
    "# Em seguida, pegar todas que tiveram gap maior que G%  range->[ 8% < G ]\n",
    "def gap_greater_than_8percent(ad):\n",
    "    return ad['stats']['gap'] >= 0.08\n",
    "\n",
    "filtered_ativo_dias =  filter(gap_greater_than_8percent, ativo_dia_list)\n",
    "filtered_ativo_dias = list(filtered_ativo_dias)\n",
    "\n",
    "# len(filtered_ativo_dias) # 9118"
   ]
  },
  {
   "cell_type": "code",
   "execution_count": 9,
   "metadata": {
    "scrolled": true
   },
   "outputs": [],
   "source": [
    "# FILTER 1 + FILTER 2 + FILTER 3\n",
    "# as funções-filtro prevol_greater_than_800k(), open_greater_than_1dolar(), gap_greater_than_8percent() já foram definidas\n",
    "\n",
    "filtered_ativo_dias =  filter(prevol_greater_than_800k, ativo_dia_list)\n",
    "filtered_ativo_dias =  filter(open_greater_than_1dolar, filtered_ativo_dias)\n",
    "filtered_ativo_dias =  filter(gap_greater_than_8percent, filtered_ativo_dias)\n",
    "filtered_ativo_dias = list(filtered_ativo_dias)\n",
    "\n",
    "# len(filtered_ativo_dias) # 799"
   ]
  },
  {
   "cell_type": "code",
   "execution_count": null,
   "metadata": {},
   "outputs": [],
   "source": [
    "# filter 4 - resolvendo alguns bugs"
   ]
  },
  {
   "cell_type": "code",
   "execution_count": 11,
   "metadata": {},
   "outputs": [
    {
     "data": {
      "text/plain": [
       "{'name': 'ABUS',\n",
       " 'date': datetime.date(2019, 11, 15),\n",
       " 'stats': {'volPre': 0,\n",
       "  'moneyVolPre': 0,\n",
       "  'openValue': 1.54,\n",
       "  'highCoreValue': 1.57,\n",
       "  'highCoreTime': datetime.time(10, 3),\n",
       "  'highCorePosition': 14,\n",
       "  'lowAfterHighValue': 1.47,\n",
       "  'lowAfterHighTime': datetime.time(13, 55),\n",
       "  'lowPositionAfterHigh': 110,\n",
       "  'openToSpikePercent': 0.019480519480519497,\n",
       "  'spikeToLowPercent': -0.06369426751592362,\n",
       "  'volumeToSpike': 30802,\n",
       "  'spikeToPreVolFactor': 0,\n",
       "  'gap': 0.006535947712418306}}"
      ]
     },
     "execution_count": 11,
     "metadata": {},
     "output_type": "execute_result"
    }
   ],
   "source": [
    "ativo_dia_list[1234]"
   ]
  },
  {
   "cell_type": "code",
   "execution_count": 12,
   "metadata": {},
   "outputs": [
    {
     "data": {
      "text/plain": [
       "{'name': 'ADMA',\n",
       " 'date': datetime.date(2020, 8, 24),\n",
       " 'stats': {'volPre': 18521366,\n",
       "  'moneyVolPre': 69768276.54220003,\n",
       "  'openValue': 3.69,\n",
       "  'highCoreValue': 3.71,\n",
       "  'highCoreTime': datetime.time(9, 31),\n",
       "  'highCorePosition': 0,\n",
       "  'lowAfterHighValue': 2.82,\n",
       "  'lowAfterHighTime': datetime.time(11, 51),\n",
       "  'lowPositionAfterHigh': 140,\n",
       "  'openToSpikePercent': 0.005420054200542011,\n",
       "  'spikeToLowPercent': -0.23989218328840975,\n",
       "  'volumeToSpike': 2314314,\n",
       "  'spikeToPreVolFactor': 0.1249537426127209,\n",
       "  'gap': 0.4701195219123507}}"
      ]
     },
     "execution_count": 12,
     "metadata": {},
     "output_type": "execute_result"
    }
   ],
   "source": [
    "filtered_ativo_dias[14]"
   ]
  },
  {
   "cell_type": "code",
   "execution_count": null,
   "metadata": {},
   "outputs": [],
   "source": []
  }
 ],
 "metadata": {
  "kernelspec": {
   "display_name": "Python 3",
   "language": "python",
   "name": "python3"
  },
  "language_info": {
   "codemirror_mode": {
    "name": "ipython",
    "version": 3
   },
   "file_extension": ".py",
   "mimetype": "text/x-python",
   "name": "python",
   "nbconvert_exporter": "python",
   "pygments_lexer": "ipython3",
   "version": "3.7.1"
  }
 },
 "nbformat": 4,
 "nbformat_minor": 2
}
